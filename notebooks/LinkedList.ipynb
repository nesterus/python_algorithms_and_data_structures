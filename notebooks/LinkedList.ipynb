{
  "nbformat": 4,
  "nbformat_minor": 0,
  "metadata": {
    "colab": {
      "name": "LinkedList.ipynb",
      "provenance": [],
      "authorship_tag": "ABX9TyMUMR5tMWg4WNO7aC8fygud",
      "include_colab_link": true
    },
    "kernelspec": {
      "name": "python3",
      "display_name": "Python 3"
    },
    "language_info": {
      "name": "python"
    }
  },
  "cells": [
    {
      "cell_type": "markdown",
      "metadata": {
        "id": "view-in-github",
        "colab_type": "text"
      },
      "source": [
        "<a href=\"https://colab.research.google.com/github/nesterus/python_algorithms_and_data_structures/blob/main/notebooks/LinkedList.ipynb\" target=\"_parent\"><img src=\"https://colab.research.google.com/assets/colab-badge.svg\" alt=\"Open In Colab\"/></a>"
      ]
    },
    {
      "cell_type": "markdown",
      "source": [
        "# Linked List"
      ],
      "metadata": {
        "id": "cEv2-QIpSUy8"
      }
    },
    {
      "cell_type": "code",
      "source": [
        "class LinkedListNode:\n",
        "    def __init__(self, data=None):\n",
        "        self.data = data\n",
        "        self.next = None\n",
        "\n",
        "    def __repr__(self):\n",
        "        return str(self.data)\n",
        "\n",
        "\n",
        "class LinkedList:\n",
        "    def __init__(self, init_elements=None):\n",
        "        ''' Create linked list from init_elements. '''\n",
        "        self.head = None\n",
        "\n",
        "        if init_elements is None:\n",
        "            return\n",
        "        \n",
        "        init_elements = list(init_elements)\n",
        "        if len(init_elements) == 0:\n",
        "            return\n",
        "\n",
        "        for el in init_elements:\n",
        "            self.insert(el)\n",
        "\n",
        "    def insert(self, data):\n",
        "        ''' Inserts a node with some data in the begining of a linked list. '''\n",
        "        node = LinkedListNode(data=data)\n",
        "        node.next = self.head\n",
        "        self.head = node\n",
        "\n",
        "    def find_previous(self, data):\n",
        "        ''' Returns the preccesor of the first found node with the specified value (recursive). '''\n",
        "        return self._find_previous_in_list_recursively(self.head, data)\n",
        "\n",
        "    def find_previous_iterative(self, data):\n",
        "        ''' Returns the preccesor of the first found node with the specified value. '''\n",
        "        node = self.head\n",
        "\n",
        "        while node is not None and node.next is not None:\n",
        "            if node.next.data == data:\n",
        "                return node\n",
        "            node = node.next\n",
        "        \n",
        "        return None\n",
        "\n",
        "    def _find_previous_in_list_recursively(self, node, data):\n",
        "        ''' Recursively finds the first found node with the specified value.\n",
        "            Returns the previous node.\n",
        "         '''\n",
        "        if node is None or node.next is None:\n",
        "            return None\n",
        "\n",
        "        if node.next.data == data:\n",
        "            return node\n",
        "        \n",
        "        return self._find_previous_in_list_recursively(node.next, data)\n",
        "\n",
        "    def delete(self, data, find_recursive=False):\n",
        "        ''' Deletes the first found node with the specified value. '''\n",
        "\n",
        "        if self.head is None:\n",
        "            return\n",
        "\n",
        "        # Delete if the node is first in linked list\n",
        "        if self.head.data == data:\n",
        "            self.head = self.head.next\n",
        "            return\n",
        "\n",
        "        # Delete if the node is not first in linked list\n",
        "        if find_recursive:\n",
        "            previous = self.find_previous(data)\n",
        "        else:\n",
        "            previous = self.find_previous_iterative(data)\n",
        "\n",
        "        if previous is None:\n",
        "            return self\n",
        "        \n",
        "        previous.next = previous.next.next\n",
        "\n",
        "    def __iter__(self):\n",
        "        node = self.head\n",
        "        while node is not None:\n",
        "            yield node\n",
        "            node = node.next\n",
        "\n",
        "    def __repr__(self):\n",
        "        values = []\n",
        "\n",
        "        for v in self:\n",
        "            values.append(repr(v.data))\n",
        "        \n",
        "        return ' -> '.join(values)"
      ],
      "metadata": {
        "id": "ly1PYihnLcxX"
      },
      "execution_count": 198,
      "outputs": []
    },
    {
      "cell_type": "code",
      "source": [
        ""
      ],
      "metadata": {
        "id": "OGX4otemLyog"
      },
      "execution_count": 2,
      "outputs": []
    },
    {
      "cell_type": "markdown",
      "source": [
        "## Auxiliary functions"
      ],
      "metadata": {
        "id": "uvDp4HMtSYPj"
      }
    },
    {
      "cell_type": "code",
      "source": [
        "from matplotlib import pyplot as plt\n",
        "import random\n",
        "import time\n",
        "\n",
        "\n",
        "def print_size(obj):\n",
        "    ''' Prints object size (without garbage collector overhead). '''\n",
        "    import sys\n",
        "\n",
        "    def namestr(obj, namespace):\n",
        "        ''' Returns variables' name. '''\n",
        "        return [name for name in namespace if namespace[name] is obj][0]\n",
        "\n",
        "    print(f'{namestr(obj, globals())} size is {obj.__sizeof__()} bytes')"
      ],
      "metadata": {
        "id": "hEmWnTnIOqyq"
      },
      "execution_count": 168,
      "outputs": []
    },
    {
      "cell_type": "code",
      "source": [
        "random.randint(10, 100)"
      ],
      "metadata": {
        "colab": {
          "base_uri": "https://localhost:8080/"
        },
        "id": "Kcjfy-bpvN2j",
        "outputId": "b4ea3f0b-9846-4e63-b746-9b24704f6f98"
      },
      "execution_count": 146,
      "outputs": [
        {
          "output_type": "execute_result",
          "data": {
            "text/plain": [
              "83"
            ]
          },
          "metadata": {},
          "execution_count": 146
        }
      ]
    },
    {
      "cell_type": "code",
      "source": [
        "linked_list_node = LinkedListNode(42)\n",
        "linked_list_node"
      ],
      "metadata": {
        "colab": {
          "base_uri": "https://localhost:8080/"
        },
        "id": "nxQC-pSpiIJp",
        "outputId": "df7a0082-f1cc-4fec-cbdc-618e8f90dced"
      },
      "execution_count": 192,
      "outputs": [
        {
          "output_type": "execute_result",
          "data": {
            "text/plain": [
              "42"
            ]
          },
          "metadata": {},
          "execution_count": 192
        }
      ]
    },
    {
      "cell_type": "code",
      "source": [
        "linked_list = LinkedList([1, 5, 2])\n",
        "linked_list"
      ],
      "metadata": {
        "colab": {
          "base_uri": "https://localhost:8080/"
        },
        "id": "jb2zOVnYjHQX",
        "outputId": "048c9b1b-3aff-42a5-ed78-dbf31970bf6e"
      },
      "execution_count": 193,
      "outputs": [
        {
          "output_type": "execute_result",
          "data": {
            "text/plain": [
              "2 -> 5 -> 1"
            ]
          },
          "metadata": {},
          "execution_count": 193
        }
      ]
    },
    {
      "cell_type": "code",
      "source": [
        "linked_list.insert(10)\n",
        "linked_list"
      ],
      "metadata": {
        "colab": {
          "base_uri": "https://localhost:8080/"
        },
        "id": "gxYwMGl0RBYY",
        "outputId": "a232dbf8-d8dc-4469-b55f-8a6b7942dedd"
      },
      "execution_count": 194,
      "outputs": [
        {
          "output_type": "execute_result",
          "data": {
            "text/plain": [
              "10 -> 2 -> 5 -> 1"
            ]
          },
          "metadata": {},
          "execution_count": 194
        }
      ]
    },
    {
      "cell_type": "code",
      "source": [
        "found = linked_list.find_previous(5)\n",
        "found"
      ],
      "metadata": {
        "colab": {
          "base_uri": "https://localhost:8080/"
        },
        "id": "pGfOwgr6mzrm",
        "outputId": "f31f607e-c057-4854-b7bb-5b7c2304d4f4"
      },
      "execution_count": 195,
      "outputs": [
        {
          "output_type": "execute_result",
          "data": {
            "text/plain": [
              "2"
            ]
          },
          "metadata": {},
          "execution_count": 195
        }
      ]
    },
    {
      "cell_type": "code",
      "source": [
        "linked_list.delete(5)\n",
        "linked_list"
      ],
      "metadata": {
        "colab": {
          "base_uri": "https://localhost:8080/"
        },
        "id": "YVra3Ib8mzuf",
        "outputId": "1784652e-cf20-4689-ce07-c29d91e77518"
      },
      "execution_count": 196,
      "outputs": [
        {
          "output_type": "execute_result",
          "data": {
            "text/plain": [
              "10 -> 2 -> 1"
            ]
          },
          "metadata": {},
          "execution_count": 196
        }
      ]
    },
    {
      "cell_type": "code",
      "source": [
        ""
      ],
      "metadata": {
        "id": "hPtiKHez4qze"
      },
      "execution_count": null,
      "outputs": []
    },
    {
      "cell_type": "markdown",
      "source": [
        "## See [Code visualization](https://pythontutor.com/visualize.html#code=class%20LinkedListNode%3A%0A%20%20%20%20def%20__init__%28self,%20data%3DNone%29%3A%0A%20%20%20%20%20%20%20%20self.data%20%3D%20data%0A%20%20%20%20%20%20%20%20self.next%20%3D%20None%0A%0Aclass%20LinkedList%3A%0A%20%20%20%20def%20__init__%28self,%20init_elements%3DNone%29%3A%0A%20%20%20%20%20%20%20%20self.head%20%3D%20None%0A%20%20%20%20%20%20%20%20%0A%20%20%20%20%20%20%20%20for%20el%20in%20init_elements%3A%0A%20%20%20%20%20%20%20%20%20%20%20%20self.insert%28el%29%0A%0A%20%20%20%20def%20insert%28self,%20data%29%3A%0A%20%20%20%20%20%20%20%20node%20%3D%20LinkedListNode%28data%3Ddata%29%0A%20%20%20%20%20%20%20%20node.next%20%3D%20self.head%0A%20%20%20%20%20%20%20%20self.head%20%3D%20node%0A%0A%20%20%20%20def%20find_previous%28self,%20data%29%3A%0A%20%20%20%20%20%20%20%20return%20self._find_previous_in_list_recursively%28self.head,%20data%29%0A%0A%20%20%20%20def%20_find_previous_in_list_recursively%28self,%20node,%20data%29%3A%0A%20%20%20%20%20%20%20%20if%20node%20is%20None%20or%20node.next%20is%20None%3A%0A%20%20%20%20%20%20%20%20%20%20%20%20return%20None%0A%0A%20%20%20%20%20%20%20%20if%20node.next.data%20%3D%3D%20data%3A%0A%20%20%20%20%20%20%20%20%20%20%20%20return%20node%0A%20%20%20%20%20%20%20%20%0A%20%20%20%20%20%20%20%20return%20self._find_previous_in_list_recursively%28node.next,%20data%29%0A%0A%20%20%20%20def%20delete%28self,%20data%29%3A%0A%20%20%20%20%20%20%20%20if%20self.head%20is%20None%3A%0A%20%20%20%20%20%20%20%20%20%20%20%20return%0A%0A%20%20%20%20%20%20%20%20if%20self.head.data%20%3D%3D%20data%3A%0A%20%20%20%20%20%20%20%20%20%20%20%20self.head%20%3D%20self.head.next%0A%20%20%20%20%20%20%20%20%20%20%20%20return%0A%0A%20%20%20%20%20%20%20%20previous%20%3D%20self.find_previous%28data%29%0A%20%20%20%20%20%20%20%20if%20previous%20is%20None%3A%0A%20%20%20%20%20%20%20%20%20%20%20%20return%20self%0A%20%20%20%20%20%20%20%20%0A%20%20%20%20%20%20%20%20previous.next%20%3D%20previous.next.next%0A%0A%20%20%20%20def%20__iter__%28self%29%3A%0A%20%20%20%20%20%20%20%20node%20%3D%20self.head%0A%20%20%20%20%20%20%20%20while%20node%20is%20not%20None%3A%0A%20%20%20%20%20%20%20%20%20%20%20%20yield%20node%0A%20%20%20%20%20%20%20%20%20%20%20%20node%20%3D%20node.next%0A%0A%0Alinked_list%20%3D%20LinkedList%28%5B1,%205,%202%5D%29%0Alinked_list.insert%2810%29%0Alinked_list.delete%285%29%0A&cumulative=false&curInstr=0&heapPrimitives=nevernest&mode=display&origin=opt-frontend.js&py=3&rawInputLstJSON=%5B%5D&textReferences=false) for the better understanding!"
      ],
      "metadata": {
        "id": "vgNbiCGty8Mm"
      }
    },
    {
      "cell_type": "code",
      "source": [
        ""
      ],
      "metadata": {
        "id": "JlHsuK1J08Fy"
      },
      "execution_count": null,
      "outputs": []
    },
    {
      "cell_type": "markdown",
      "source": [
        "## Measure execution time"
      ],
      "metadata": {
        "id": "t6u3jF4808aN"
      }
    },
    {
      "cell_type": "markdown",
      "source": [
        "### Linked list creation. O(n)"
      ],
      "metadata": {
        "id": "pqauoOm51C4G"
      }
    },
    {
      "cell_type": "code",
      "source": [
        "vals_range=[-1000000, 1000000]"
      ],
      "metadata": {
        "id": "l_1yE64nmzxB"
      },
      "execution_count": 174,
      "outputs": []
    },
    {
      "cell_type": "code",
      "source": [
        "%%timeit\n",
        "n = int(10e1)\n",
        "data = [random.randint(vals_range[0], vals_range[1]) for i in range(n)]\n",
        "linked_list = LinkedList(data)"
      ],
      "metadata": {
        "colab": {
          "base_uri": "https://localhost:8080/"
        },
        "id": "ZVWpzeTuz1bY",
        "outputId": "788e5210-2888-42f9-c579-eaf0e4f1e3f3"
      },
      "execution_count": 175,
      "outputs": [
        {
          "output_type": "stream",
          "name": "stdout",
          "text": [
            "1000 loops, best of 5: 193 µs per loop\n"
          ]
        }
      ]
    },
    {
      "cell_type": "code",
      "source": [
        "%%timeit\n",
        "n = int(10e3)\n",
        "data = [random.randint(vals_range[0], vals_range[1]) for i in range(n)]\n",
        "linked_list = LinkedList(data)"
      ],
      "metadata": {
        "colab": {
          "base_uri": "https://localhost:8080/"
        },
        "id": "SiBeC57kw-Fu",
        "outputId": "4d7b963e-d32f-45b4-9c09-d3abc25f53b4"
      },
      "execution_count": 176,
      "outputs": [
        {
          "output_type": "stream",
          "name": "stdout",
          "text": [
            "10 loops, best of 5: 20.2 ms per loop\n"
          ]
        }
      ]
    },
    {
      "cell_type": "code",
      "source": [
        "%%timeit\n",
        "n = int(10e5)\n",
        "data = [random.randint(vals_range[0], vals_range[1]) for i in range(n)]\n",
        "linked_list = LinkedList(data)"
      ],
      "metadata": {
        "colab": {
          "base_uri": "https://localhost:8080/"
        },
        "id": "3ky_3nLA0sC8",
        "outputId": "e7c646ad-17eb-4849-ec13-f2c06bf4ccb3"
      },
      "execution_count": 177,
      "outputs": [
        {
          "output_type": "stream",
          "name": "stdout",
          "text": [
            "1 loop, best of 5: 2.04 s per loop\n"
          ]
        }
      ]
    },
    {
      "cell_type": "markdown",
      "source": [
        "### Linked list insertion. O(1)"
      ],
      "metadata": {
        "id": "7btF5dZ01JtY"
      }
    },
    {
      "cell_type": "markdown",
      "source": [
        "Note that we ignore the time for list creation."
      ],
      "metadata": {
        "id": "v1-ZTUZj66LM"
      }
    },
    {
      "cell_type": "code",
      "source": [
        "repetitions = 10\n",
        "n = int(10e1)\n",
        "times = []\n",
        "\n",
        "for r in range(repetitions):\n",
        "    data = [random.randint(vals_range[0], vals_range[1]) for i in range(n)]\n",
        "    linked_list = LinkedList(data)\n",
        "\n",
        "    start = time.time()\n",
        "    linked_list.insert(random.randint(vals_range[0], vals_range[1]))\n",
        "    times.append(time.time() - start)\n",
        "\n",
        "print(round(sum(times) / len(times), 5))"
      ],
      "metadata": {
        "colab": {
          "base_uri": "https://localhost:8080/"
        },
        "id": "DleWZfvf6hFT",
        "outputId": "e38ddc4c-50eb-4e7f-dc66-b8fb2c52b236"
      },
      "execution_count": 178,
      "outputs": [
        {
          "output_type": "stream",
          "name": "stdout",
          "text": [
            "1e-05\n"
          ]
        }
      ]
    },
    {
      "cell_type": "code",
      "source": [
        "repetitions = 10\n",
        "n = int(10e3)\n",
        "times = []\n",
        "\n",
        "for r in range(repetitions):\n",
        "    data = [random.randint(vals_range[0], vals_range[1]) for i in range(n)]\n",
        "    linked_list = LinkedList(data)\n",
        "\n",
        "    start = time.time()\n",
        "    linked_list.insert(random.randint(vals_range[0], vals_range[1]))\n",
        "    times.append(time.time() - start)\n",
        "\n",
        "print(round(sum(times) / len(times), 5))"
      ],
      "metadata": {
        "colab": {
          "base_uri": "https://localhost:8080/"
        },
        "id": "XRyZNgRZ6yhv",
        "outputId": "1e162437-8eae-417c-e67c-0067c4c62545"
      },
      "execution_count": 179,
      "outputs": [
        {
          "output_type": "stream",
          "name": "stdout",
          "text": [
            "0.00099\n"
          ]
        }
      ]
    },
    {
      "cell_type": "code",
      "source": [
        "repetitions = 10\n",
        "n = int(10e5)\n",
        "times = []\n",
        "\n",
        "for r in range(repetitions):\n",
        "    data = [random.randint(vals_range[0], vals_range[1]) for i in range(n)]\n",
        "    linked_list = LinkedList(data)\n",
        "\n",
        "    start = time.time()\n",
        "    linked_list.insert(random.randint(vals_range[0], vals_range[1]))\n",
        "    times.append(time.time() - start)\n",
        "\n",
        "print(round(sum(times) / len(times), 5))"
      ],
      "metadata": {
        "colab": {
          "base_uri": "https://localhost:8080/"
        },
        "id": "0UIC5gOW60y-",
        "outputId": "62034e6f-8d29-4a38-9910-4a341b260379"
      },
      "execution_count": 180,
      "outputs": [
        {
          "output_type": "stream",
          "name": "stdout",
          "text": [
            "3e-05\n"
          ]
        }
      ]
    },
    {
      "cell_type": "code",
      "source": [
        ""
      ],
      "metadata": {
        "id": "v1_87IQU0sIZ"
      },
      "execution_count": null,
      "outputs": []
    },
    {
      "cell_type": "markdown",
      "source": [
        "### Linked list element removal. O(n) because we need to find the preccesor."
      ],
      "metadata": {
        "id": "WNagoKnk1nmk"
      }
    },
    {
      "cell_type": "code",
      "source": [
        "repetitions = 10\n",
        "n = int(10e1)\n",
        "times = []\n",
        "\n",
        "for r in range(repetitions):\n",
        "    data = [random.randint(vals_range[0], vals_range[1]) for i in range(n)]\n",
        "    linked_list = LinkedList(data)\n",
        "\n",
        "    start = time.time()\n",
        "    linked_list.delete(random.randint(vals_range[0], vals_range[1]))\n",
        "    times.append(time.time() - start)\n",
        "\n",
        "print(round(sum(times) / len(times), 5))"
      ],
      "metadata": {
        "colab": {
          "base_uri": "https://localhost:8080/"
        },
        "id": "aOGsBMQBw-JP",
        "outputId": "eee147e7-3b07-484d-da07-b1fccf320aa4"
      },
      "execution_count": 200,
      "outputs": [
        {
          "output_type": "stream",
          "name": "stdout",
          "text": [
            "5e-05\n"
          ]
        }
      ]
    },
    {
      "cell_type": "code",
      "source": [
        "repetitions = 10\n",
        "n = int(10e3)\n",
        "times = []\n",
        "\n",
        "for r in range(repetitions):\n",
        "    data = [random.randint(vals_range[0], vals_range[1]) for i in range(n)]\n",
        "    linked_list = LinkedList(data)\n",
        "\n",
        "    start = time.time()\n",
        "    linked_list.delete(random.randint(vals_range[0], vals_range[1]))\n",
        "    times.append(time.time() - start)\n",
        "\n",
        "print(round(sum(times) / len(times), 5))"
      ],
      "metadata": {
        "colab": {
          "base_uri": "https://localhost:8080/"
        },
        "id": "vKh0L6fb9xjr",
        "outputId": "2f49fd81-32c6-41b7-8ff2-6a8e05ff82fa"
      },
      "execution_count": 201,
      "outputs": [
        {
          "output_type": "stream",
          "name": "stdout",
          "text": [
            "0.00304\n"
          ]
        }
      ]
    },
    {
      "cell_type": "code",
      "source": [
        "repetitions = 10\n",
        "n = int(10e5)\n",
        "times = []\n",
        "\n",
        "for r in range(repetitions):\n",
        "    data = [random.randint(vals_range[0], vals_range[1]) for i in range(n)]\n",
        "    linked_list = LinkedList(data)\n",
        "\n",
        "    start = time.time()\n",
        "    linked_list.delete(random.randint(vals_range[0], vals_range[1]))\n",
        "    times.append(time.time() - start)\n",
        "\n",
        "print(round(sum(times) / len(times), 5))"
      ],
      "metadata": {
        "colab": {
          "base_uri": "https://localhost:8080/"
        },
        "id": "8JZgcutb9xqr",
        "outputId": "97783914-9758-4922-92cc-abcac8cd63e1"
      },
      "execution_count": 202,
      "outputs": [
        {
          "output_type": "stream",
          "name": "stdout",
          "text": [
            "0.3005\n"
          ]
        }
      ]
    },
    {
      "cell_type": "code",
      "source": [
        ""
      ],
      "metadata": {
        "id": "ywMTvZPK7OIK"
      },
      "execution_count": null,
      "outputs": []
    },
    {
      "cell_type": "code",
      "source": [
        ""
      ],
      "metadata": {
        "id": "4dTERncXRBbK"
      },
      "execution_count": 37,
      "outputs": []
    },
    {
      "cell_type": "markdown",
      "source": [
        "## Sources\n",
        "[1] [The Algorithm Design Manual. Steven Skiena](https://www.amazon.com/Algorithm-Design-Manual-Steven-Skiena/dp/1849967202) \\\\\n",
        "[2] [RealPython tutorial](https://realpython.com/linked-lists-python/)  \\\\\n"
      ],
      "metadata": {
        "id": "bvibla_sa9jA"
      }
    },
    {
      "cell_type": "code",
      "source": [
        ""
      ],
      "metadata": {
        "id": "TW8emR9LQPU0"
      },
      "execution_count": null,
      "outputs": []
    },
    {
      "cell_type": "code",
      "source": [
        ""
      ],
      "metadata": {
        "id": "ubkecNbSMc0j"
      },
      "execution_count": null,
      "outputs": []
    }
  ]
}